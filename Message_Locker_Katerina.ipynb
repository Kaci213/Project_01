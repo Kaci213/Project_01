{
 "cells": [
  {
   "cell_type": "code",
   "execution_count": 26,
   "id": "77d68707",
   "metadata": {},
   "outputs": [
    {
     "name": "stdout",
     "output_type": "stream",
     "text": [
      "Enter your Encripted text  aaa\n",
      "222222\n"
     ]
    }
   ],
   "source": [
    "#My code is here:\n",
    "\n",
    "input1 = input('Enter your Encripted text  ')\n",
    "#input2 = input('Enter your user name')\n",
    "#input3 = input('Enter your password')\n",
    "list1 = list(input1)\n",
    "dict_encrypt={'a':22, 'b':57, 'c':74, 'd':12}\n",
    "decr_msg=[]\n",
    "for i in list1:\n",
    "    if i in dict_encrypt:\n",
    "        decr_msg.append(dict_encrypt[i])\n",
    "output=''.join(str(x) for x in decr_msg)\n",
    "print(output)"
   ]
  },
  {
   "cell_type": "code",
   "execution_count": 4,
   "id": "16aa31fb",
   "metadata": {},
   "outputs": [
    {
     "ename": "SyntaxError",
     "evalue": "invalid syntax (3265794267.py, line 4)",
     "output_type": "error",
     "traceback": [
      "\u001b[1;36m  File \u001b[1;32m\"C:\\Users\\ARS\\AppData\\Local\\Temp\\ipykernel_6908\\3265794267.py\"\u001b[1;36m, line \u001b[1;32m4\u001b[0m\n\u001b[1;33m    if not input2, input3 in dict_pwd:\u001b[0m\n\u001b[1;37m                 ^\u001b[0m\n\u001b[1;31mSyntaxError\u001b[0m\u001b[1;31m:\u001b[0m invalid syntax\n"
     ]
    }
   ],
   "source": [
    "dict_pwd={'john':3,'adam':2}\n",
    "input2 = input('Enter your user name')\n",
    "input3 = input('Enter your password')\n",
    "if not input2, input3 in dict_pwd:\n",
    "    print('Enter valid username and password')\n",
    "else: \n",
    "    break"
   ]
  }
 ],
 "metadata": {
  "kernelspec": {
   "display_name": "Python 3 (ipykernel)",
   "language": "python",
   "name": "python3"
  },
  "language_info": {
   "codemirror_mode": {
    "name": "ipython",
    "version": 3
   },
   "file_extension": ".py",
   "mimetype": "text/x-python",
   "name": "python",
   "nbconvert_exporter": "python",
   "pygments_lexer": "ipython3",
   "version": "3.9.13"
  }
 },
 "nbformat": 4,
 "nbformat_minor": 5
}
