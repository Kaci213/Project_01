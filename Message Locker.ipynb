{
 "cells": [
  {
   "cell_type": "raw",
   "id": "cfd064d6",
   "metadata": {},
   "source": [
    "# Gemma code"
   ]
  },
  {
   "cell_type": "code",
   "execution_count": null,
   "id": "8dd10325",
   "metadata": {},
   "outputs": [],
   "source": []
  },
  {
   "cell_type": "code",
   "execution_count": null,
   "id": "f95bc5e8",
   "metadata": {},
   "outputs": [],
   "source": [
    "Katerina code"
   ]
  },
  {
   "cell_type": "code",
   "execution_count": null,
   "id": "891d7017",
   "metadata": {},
   "outputs": [],
   "source": []
  },
  {
   "cell_type": "raw",
   "id": "e9a82fc7",
   "metadata": {},
   "source": [
    "Kaci : encription funtion"
   ]
  },
  {
   "cell_type": "code",
   "execution_count": 22,
   "id": "5952d86a",
   "metadata": {},
   "outputs": [
    {
     "name": "stdout",
     "output_type": "stream",
     "text": [
      "Write down the message you wish to encrypt : abc\n",
      "\n",
      " Here is your encrypted message :  \n",
      " abdodsdjde\n"
     ]
    }
   ],
   "source": [
    "# the idea is to iterate on  each character from the user input, \n",
    "# we match it with the key from dict_encrypt and return the value from dict_encrypt \n",
    "# in the form of a list which we will print as a string \n",
    "\n",
    "dict_encrypt = {\"a\":\"abd\", \"b\":\"ods\", \"c\":\"djde\"}\n",
    "\n",
    "def encryption_process():\n",
    "    msg = input(\"Write down the message you wish to encrypt : \")\n",
    "    encrypted_msg = []\n",
    "    for character in msg:\n",
    "        encrypted_msg.append(dict_encrypt[character]) \n",
    "    f = open(r'C:\\Users\\kaci\\Downloads\\IronHack\\Module 1\\Game 1\\encrypt.txt', 'x')\n",
    "    f.write(\"\".join(encrypted_msg))\n",
    "    print(\"\\n\", \"Here is your encrypted message : \", \"\\n\", \"\".join(encrypted_msg))\n",
    "            \n",
    "encryption_process()\n",
    "        "
   ]
  },
  {
   "cell_type": "code",
   "execution_count": 2,
   "id": "74929466",
   "metadata": {},
   "outputs": [
    {
     "name": "stdout",
     "output_type": "stream",
     "text": [
      "Hirethetopfreelancers\n"
     ]
    }
   ],
   "source": [
    "kaci = [\"Hire\", \"the\", \"top\", \"freelancers\"]\n",
    "print(\"\".join(kaci))"
   ]
  },
  {
   "cell_type": "code",
   "execution_count": 24,
   "id": "eac33724",
   "metadata": {},
   "outputs": [
    {
     "data": {
      "text/plain": [
       "2"
      ]
     },
     "execution_count": 24,
     "metadata": {},
     "output_type": "execute_result"
    }
   ],
   "source": [
    "import ctypes  # An included library with Python install.   \n",
    "ctypes.windll.user32.MessageBoxW(0, \"Your text\", \"Your title\", 1)"
   ]
  }
 ],
 "metadata": {
  "kernelspec": {
   "display_name": "Python 3 (ipykernel)",
   "language": "python",
   "name": "python3"
  },
  "language_info": {
   "codemirror_mode": {
    "name": "ipython",
    "version": 3
   },
   "file_extension": ".py",
   "mimetype": "text/x-python",
   "name": "python",
   "nbconvert_exporter": "python",
   "pygments_lexer": "ipython3",
   "version": "3.9.13"
  }
 },
 "nbformat": 4,
 "nbformat_minor": 5
}
