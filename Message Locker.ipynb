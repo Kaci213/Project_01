{
 "cells": [
  {
   "cell_type": "markdown",
   "id": "c7ca0d8b",
   "metadata": {},
   "source": [
    "### function for generating encryption key\n",
    "This function will be used once in this instance.\n",
    "Eventually it could be used to generate a new key for each individual encryption\n",
    "\n",
    "PSEUDOCODE\n",
    "Import random\n",
    "Declare objects:\n",
    "    dict_encrypt (empty dictionary for character:encryption pairs)\n",
    "\n",
    "1. In a list, define all possible characters that can be entered A-Z, a-Z, 0-9, ' ', ',','.', ':', ';', '-','_'\n",
    "2. iterate though list, assigning a random combination of 3 characters.\n",
    "3. in empty dictionary, assign key (original character) and value (the encyrption key)\n",
    "4. check that the encyption combination does not already exist, if exists continue \n",
    "5. check that dictionary containes all original characters from list\n",
    "6. if characters missing rerun key creation\n",
    "7. Print dictionary\n",
    "\n",
    "\n"
   ]
  },
  {
   "cell_type": "code",
   "execution_count": 33,
   "id": "fc0af713",
   "metadata": {},
   "outputs": [
    {
     "name": "stdout",
     "output_type": "stream",
     "text": [
      "ABCDEFGHIJKLMNOPQRSTUVWXYZabcdefghijklmnopqrstuvwxyz0123456789!\"#$%&'()*+,-./:;<=>?@[ ]^_`{|}~\n",
      "all characters are encoded in dictionary\n",
      "{'A': '1L~', 'B': '`>t', 'C': ':KS', 'D': '\"Jc', 'E': '2S7', 'F': '`P\"', 'G': 'vmo', 'H': '?r:', 'I': '+Oi', 'J': 'h{z', 'K': '0BA', 'L': '@f5', 'M': '%1F', 'N': 'W>H', 'O': 'SgP', 'P': 'cB<', 'Q': 'wjJ', 'R': 'w^q', 'S': 'iu5', 'T': '@Q1', 'U': '8zU', 'V': '_E^', 'W': 'NR#', 'X': '|uX', 'Y': 'mC@', 'Z': '|>C', 'a': ':TI', 'b': 'P,2', 'c': 'P9?', 'd': 'qT*', 'e': 'q%P', 'f': 'ad9', 'g': 'mum', 'h': 'Y3 ', 'i': 'zF:', 'j': '-8Y', 'k': 'AA%', 'l': '@?7', 'm': '}YN', 'n': 'zX ', 'o': \"';F\", 'p': '%)R', 'q': 'V{J', 'r': ',`g', 's': 'd3I', 't': '&1>', 'u': '\"xM', 'v': 'N29', 'w': ')Oq', 'x': 'BeH', 'y': 'Zx`', 'z': '2d,', '1': 'C&|', '2': '@8 ', '3': 'A]6', '4': '@|:', '5': 'jf]', '6': 's+i', '7': '8]6', '8': '[x}', '9': 'T_F', '0': 'y/u', '(': 'C(A', ')': 'O{r', '[': '}f$', ']': 'E!6', ',': ',o ', ' ': '{kg', '&': 's!7', '*': '7Nr', '?': 'xA)', '%': 'A*|', '.': 'k%]', ':': 'xjF', ';': '>Zx', '$': 'HWT', '!': '-mU', '@': '~A<', '\"': 'z(K', '#': 'tCw', '-': '2w1', '_': '3@b'}\n"
     ]
    }
   ],
   "source": [
    "#Function to generate and encryption key, \n",
    "# for the purposes of this program it is only executed once by the programmers to generate key\n",
    "\n",
    "def Encryption():\n",
    "    import random \n",
    "    import string\n",
    "\n",
    "    dict_encrypt={}\n",
    "    encrypt_str=string.ascii_uppercase+string.ascii_lowercase +string.digits+string.punctuation\n",
    "    encrypt_str=encrypt_str.replace('\\\\',' ')\n",
    "    print(encrypt_str)\n",
    "\n",
    "    char_list=['A','B','C','D','E','F','G','H','I','J','K','L','M','N','O','P','Q','R','S','T','U','V','W','X','Y','Z',\n",
    "           'a','b','c','d','e','f','g','h','i','j','k','l','m','n','o','p','q','r','s','t','u','v','w','x','y', 'z',\n",
    "          '1','2','3','4','5','6','7','8','9','0','(',')','[',']',',', ' ','&','*','?','%','.',':',';','$','!','@','\"','#','-','_']\n",
    "\n",
    "\n",
    "# generation of key:value pair for character and its 3 character encryption code\n",
    "\n",
    "    for char in char_list:\n",
    "        encrypt_list=random.choices(encrypt_str, k=3) #returns as a list convert to string\n",
    "        encrypt_list= ''.join(encrypt_list)\n",
    "    # check that all encoded keys are unique\n",
    "        for key in dict_encrypt:\n",
    "            if dict_encrypt[key]==encrypt_list:\n",
    "                continue\n",
    "        dict_encrypt[char]= encrypt_list\n",
    "\n",
    "# checking that all characters in char list have been encoded\n",
    "\n",
    "    d_list=list(dict_encrypt.keys())\n",
    "\n",
    "\n",
    "    if len(set(char_list).symmetric_difference(set(d_list))) >0:\n",
    "        print(set(char_list).symmetric_difference(set(d_list)))\n",
    "    else:\n",
    "        print('all characters are encoded in dictionary')\n",
    "    print(dict_encrypt)    \n",
    "\n",
    "Encryption()"
   ]
  },
  {
   "cell_type": "code",
   "execution_count": 34,
   "id": "8dd10325",
   "metadata": {},
   "outputs": [],
   "source": [
    "dict_encrypt= {'A': '1L~', 'B': '`>t', 'C': ':KS', 'D': '\"Jc', 'E': '2S7', 'F': '`P\"', 'G': 'vmo', 'H': '?r:', 'I': '+Oi', 'J': 'h{z', 'K': '0BA', 'L': '@f5', 'M': '%1F', 'N': 'W>H', 'O': 'SgP', 'P': 'cB<', 'Q': 'wjJ', 'R': 'w^q', 'S': 'iu5', 'T': '@Q1', 'U': '8zU', 'V': '_E^', 'W': 'NR#', 'X': '|uX', 'Y': 'mC@', 'Z': '|>C', 'a': ':TI', 'b': 'P,2', 'c': 'P9?', 'd': 'qT*', 'e': 'q%P', 'f': 'ad9', 'g': 'mum', 'h': 'Y3 ', 'i': 'zF:', 'j': '-8Y', 'k': 'AA%', 'l': '@?7', 'm': '}YN', 'n': 'zX ', 'o': \"';F\", 'p': '%)R', 'q': 'V{J', 'r': ',`g', 's': 'd3I', 't': '&1>', 'u': '\"xM', 'v': 'N29', 'w': ')Oq', 'x': 'BeH', 'y': 'Zx`', 'z': '2d,', '1': 'C&|', '2': '@8 ', '3': 'A]6', '4': '@|:', '5': 'jf]', '6': 's+i', '7': '8]6', '8': '[x}', '9': 'T_F', '0': 'y/u', '(': 'C(A', ')': 'O{r', '[': '}f$', ']': 'E!6', ',': ',o ', ' ': '{kg', '&': 's!7', '*': '7Nr', '?': 'xA)', '%': 'A*|', '.': 'k%]', ':': 'xjF', ';': '>Zx', '$': 'HWT', '!': '-mU', '@': '~A<', '\"': 'z(K', '#': 'tCw', '-': '2w1', '_': '3@b'}"
   ]
  },
  {
   "cell_type": "code",
   "execution_count": 64,
   "id": "f95bc5e8",
   "metadata": {},
   "outputs": [
    {
     "name": "stdout",
     "output_type": "stream",
     "text": [
      "Welcome to Message Locker!\n",
      "\n",
      "    This a handy tool to encrypt a message, simply enter your text in English in the input box.\n",
      "    When you are ready to decrypt simply come back here with your encrypted message and follow the instructions.\n",
      "    Have a good day!!!\n",
      "    \n",
      "If you want to encrypt press 1 and if you want to decrypt press 2 :2\n",
      "Write down the message you wish to decrypt : \n",
      "0BA:TIP9?zF:{kg`>t';F\"xM,`gmum\"xM:TI\n",
      "Here is your decrypted message :  \n",
      " BKacgioru \n",
      "\n",
      "\n",
      "Thank you for using Message Locker! We hope to see you again !!\n"
     ]
    }
   ],
   "source": [
    "dict_encrypt= {'A': '1L~', 'B': '`>t', 'C': ':KS', 'D': '\"Jc', 'E': '2S7', 'F': '`P\"', 'G': 'vmo', 'H': '?r:', 'I': '+Oi', 'J': 'h{z', 'K': '0BA', 'L': '@f5', 'M': '%1F', 'N': 'W>H', 'O': 'SgP', 'P': 'cB<', 'Q': 'wjJ', 'R': 'w^q', 'S': 'iu5', 'T': '@Q1', 'U': '8zU', 'V': '_E^', 'W': 'NR#', 'X': '|uX', 'Y': 'mC@', 'Z': '|>C', 'a': ':TI', 'b': 'P,2', 'c': 'P9?', 'd': 'qT*', 'e': 'q%P', 'f': 'ad9', 'g': 'mum', 'h': 'Y3 ', 'i': 'zF:', 'j': '-8Y', 'k': 'AA%', 'l': '@?7', 'm': '}YN', 'n': 'zX ', 'o': \"';F\", 'p': '%)R', 'q': 'V{J', 'r': ',`g', 's': 'd3I', 't': '&1>', 'u': '\"xM', 'v': 'N29', 'w': ')Oq', 'x': 'BeH', 'y': 'Zx`', 'z': '2d,', '1': 'C&|', '2': '@8 ', '3': 'A]6', '4': '@|:', '5': 'jf]', '6': 's+i', '7': '8]6', '8': '[x}', '9': 'T_F', '0': 'y/u', '(': 'C(A', ')': 'O{r', '[': '}f$', ']': 'E!6', ',': ',o ', ' ': '{kg', '&': 's!7', '*': '7Nr', '?': 'xA)', '%': 'A*|', '.': 'k%]', ':': 'xjF', ';': '>Zx', '$': 'HWT', '!': '-mU', '@': '~A<', '\"': 'z(K', '#': 'tCw', '-': '2w1', '_': '3@b'}\n",
    "\n",
    "def start_game():\n",
    "    print('''Welcome to Message Locker!\n",
    "\n",
    "    This a handy tool to encrypt a message, simply enter your text in English in the input box.\n",
    "    When you are ready to decrypt simply come back here with your encrypted message and follow the instructions.\n",
    "    Have a good day!!!\n",
    "    ''')\n",
    "\n",
    "    choice=int(input(\"If you want to encrypt press 1 and if you want to decrypt press 2 :\"))\n",
    "    if choice==1:\n",
    "        encryption_process()\n",
    "    elif choice==2:\n",
    "        decryption_process()\n",
    "    else:\n",
    "        choice=input(\"Please chose between, 1 or 2\")\n",
    "    print(\"\\n\")\n",
    "    print('Thank you for using Message Locker! We hope to see you again !!')\n",
    "\n",
    "    \n",
    "def encryption_process():\n",
    "    msg = input(\"Write down the message you wish to encrypt. It must be in English, it can contain numbers and these special characters only '.:;$!@'-_: \\n\")\n",
    "    encrypted_msg = []\n",
    "    for character in msg:\n",
    "        encrypted_msg.append(dict_encrypt[character])\n",
    "    f = open(r'C:\\Users\\kaci\\Downloads\\IronHack\\Module 1\\Game 1\\encrypt.txt', 'w')\n",
    "    f.write(\"\".join(encrypted_msg))\n",
    "    print(\"\\n\", \"Here is your encrypted message : \", \"\\n\", \"\".join(encrypted_msg))            \n",
    "\n",
    "\n",
    "def decryption_process():\n",
    "    # encrypted message entered\n",
    "    # encrypted message is decrypted 3 charcters at a time\n",
    "    # output message which has been decrypted\n",
    "    \n",
    "    encr_txt = input(\"Write down the message you wish to decrypt : \\n\")\n",
    "    encr_lst = []\n",
    "    decr_msg=[]\n",
    "\n",
    "    import re\n",
    "    encr_lst=re.findall('...?',encr_txt) #splits by 3 to be recognized by the encryption key dictionnary\n",
    "\n",
    "    for k, v in dict_encrypt.items():\n",
    "        if v in encr_lst:\n",
    "            decr_msg.append(k)\n",
    "    print(\"Here is your decrypted message : \", \"\\n\", \"\".join(decr_msg))\n",
    "\n",
    "\n",
    "    \n",
    "start_game()"
   ]
  },
  {
   "cell_type": "code",
   "execution_count": null,
   "id": "41f03427",
   "metadata": {},
   "outputs": [],
   "source": []
  },
  {
   "cell_type": "code",
   "execution_count": null,
   "id": "771794a6",
   "metadata": {},
   "outputs": [],
   "source": []
  },
  {
   "cell_type": "code",
   "execution_count": null,
   "id": "891d7017",
   "metadata": {},
   "outputs": [],
   "source": []
  }
 ],
 "metadata": {
  "kernelspec": {
   "display_name": "Python 3 (ipykernel)",
   "language": "python",
   "name": "python3"
  },
  "language_info": {
   "codemirror_mode": {
    "name": "ipython",
    "version": 3
   },
   "file_extension": ".py",
   "mimetype": "text/x-python",
   "name": "python",
   "nbconvert_exporter": "python",
   "pygments_lexer": "ipython3",
   "version": "3.9.13"
  }
 },
 "nbformat": 4,
 "nbformat_minor": 5
}
