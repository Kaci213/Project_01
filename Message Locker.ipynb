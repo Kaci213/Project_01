{
 "cells": [
  {
   "cell_type": "markdown",
   "id": "c7ca0d8b",
   "metadata": {},
   "source": [
    "### function for generating encryption key\n",
    "This function will be used once in this instance.\n",
    "Eventually it could be used to generate a new key for each individual encryption\n",
    "\n",
    "PSEUDOCODE\n",
    "Import random\n",
    "Declare objects:\n",
    "    dict_encrypt (empty dictionary for character:encryption pairs)\n",
    "\n",
    "1. In a list, define all possible characters that can be entered A-Z, a-Z, 0-9, ' ', ',','.', ':', ';', '-','_'\n",
    "2. iterate though list, assigning a random combination of 3 characters.\n",
    "3. in empty dictionary, assign key (original character) and value (the encyrption key)\n",
    "4. check that the encyption combination does not already exist, if exists continue \n",
    "5. check that dictionary containes all original characters from list\n",
    "6. if characters missing rerun key creation\n",
    "7. Print dictionary\n",
    "\n",
    "\n"
   ]
  },
  {
   "cell_type": "code",
   "execution_count": null,
   "id": "fc0af713",
   "metadata": {},
   "outputs": [],
   "source": [
    "#Function to generate and encryption key, \n",
    "# for the purposes of this program it is only executed once by the programmers to generate key\n",
    "\n",
    "def Encryption():\n",
    "    import random \n",
    "    import string\n",
    "\n",
    "    dict_encrypt={}\n",
    "    encrypt_str=string.ascii_uppercase+string.ascii_lowercase +string.digits+string.punctuation\n",
    "    encrypt_str=encrypt_str.replace('\\\\',' ')\n",
    "    print(encrypt_str)\n",
    "\n",
    "    char_list=['A','B','C','D','E','F','G','H','I','J','K','L','M','N','O','P','Q','R','S','T','U','V','X','W','Z',\n",
    "           'a','b','c','d','e','f','h','i','j','k','l','m','n','o','p','q','r','s','t','u','v','w', 'z',\n",
    "          '1','2','3','4','5','6','7','8','9','0',\n",
    "          ',', ' ','.',':',';','$','!','@','\"','#','-','_']\n",
    "\n",
    "\n",
    "# generation of key:value pair for character and its 3 character encryption code\n",
    "\n",
    "    for char in char_list:\n",
    "        encrypt_list=random.choices(encrypt_str, k=3) #returns as a list convert to string\n",
    "        encrypt_list= ''.join(encrypt_list)\n",
    "    # check that all encoded keys are unique\n",
    "        for key in dict_encrypt:\n",
    "            if dict_encrypt[key]==encrypt_list:\n",
    "                continue\n",
    "        dict_encrypt[char]= encrypt_list\n",
    "\n",
    "# checking that all characters in char list have been encoded\n",
    "\n",
    "    d_list=list(dict_encrypt.keys())\n",
    "\n",
    "\n",
    "    if len(set(char_list).symmetric_difference(set(d_list))) >0:\n",
    "        print(set(char_list).symmetric_difference(set(d_list)))\n",
    "    else:\n",
    "        print('all characters are encoded in dictionary')\n",
    "    return(dict_encrypt)"
   ]
  },
  {
   "cell_type": "code",
   "execution_count": null,
   "id": "8dd10325",
   "metadata": {},
   "outputs": [],
   "source": [
    "dict_encrypt= {'A': 'i~z', 'B': '5<c', 'C': 'DR+', 'D': 'Q4B', 'E': 'YGD', 'F': '*iA', 'G': 'sNN', 'H': 'Kzp', 'I': 'C6@', 'J': ',4<', 'K': 'Sa.', 'L': '<Fj', 'M': '4J3', 'N': 'qOO', 'O': '9;{', 'P': 'd!?', 'Q': 'vF&', 'R': 'JX&', 'S': '\"5_', 'T': 'm5]', 'U': 'YYd', 'V': '+;j', 'X': '/eI', 'W': 'S f', 'Z': 'o42', 'a': 'Zl)', 'b': 't_Y', 'c': 'YPG', 'd': '`eY', 'e': '!Nm', 'f': '_.}', 'h': 'mY2', 'i': '*{P', 'j': 'JQG', 'k': 'yWi', 'l': 'a|Z', 'm': 'T_I', 'n': '#6&', 'o': '+CP', 'p': 'W9p', 'q': 'c*]', 'r': '{d-', 's': 'u3K', 't': 'I!T', 'u': 'usc', 'v': '=a[', 'w': 'uZN', 'z': 'h b', '1': '[!#', '2': '9lt', '3': ',~,', '4': 'p$d', '5': '{mc', '6': '$?#', '7': 'CV3', '8': '*oG', '9': '7^l', '0': 'M>]', ',': 'h:*', ' ': '6sd', '.': '5?7', ':': 'C~&', ';': ',IG', '$': 'YL&', '!': \"'{e\", '@': \"m7'\", '\"': '$4D', '#': 'RCg', '-': '`Lp', '_': '43O'}"
   ]
  },
  {
   "cell_type": "code",
   "execution_count": null,
   "id": "f95bc5e8",
   "metadata": {},
   "outputs": [
    {
     "name": "stdout",
     "output_type": "stream",
     "text": [
      "Write down the message you wish to encrypt : aqijezaqslejeazo\n",
      "\n",
      " Here is your encrypted message :  \n",
      " Zl)c*]*{PJQG!Nmh bZl)c*]u3Ka|Z!NmJQG!NmZl)h b+CP\n",
      "To be able to decrypt this message next time, please define a username and password bellow :\n"
     ]
    }
   ],
   "source": [
    "def encryption_process():\n",
    "    dict_encrypt= {'A': 'i~z', 'B': '5<c', 'C': 'DR+', 'D': 'Q4B', 'E': 'YGD', 'F': '*iA', 'G': 'sNN', 'H': 'Kzp', 'I': 'C6@', 'J': ',4<', 'K': 'Sa.', 'L': '<Fj', 'M': '4J3', 'N': 'qOO', 'O': '9;{', 'P': 'd!?', 'Q': 'vF&', 'R': 'JX&', 'S': '\"5_', 'T': 'm5]', 'U': 'YYd', 'V': '+;j', 'X': '/eI', 'W': 'S f', 'Z': 'o42', 'a': 'Zl)', 'b': 't_Y', 'c': 'YPG', 'd': '`eY', 'e': '!Nm', 'f': '_.}', 'h': 'mY2', 'i': '*{P', 'j': 'JQG', 'k': 'yWi', 'l': 'a|Z', 'm': 'T_I', 'n': '#6&', 'o': '+CP', 'p': 'W9p', 'q': 'c*]', 'r': '{d-', 's': 'u3K', 't': 'I!T', 'u': 'usc', 'v': '=a[', 'w': 'uZN', 'z': 'h b', '1': '[!#', '2': '9lt', '3': ',~,', '4': 'p$d', '5': '{mc', '6': '$?#', '7': 'CV3', '8': '*oG', '9': '7^l', '0': 'M>]', ',': 'h:*', ' ': '6sd', '.': '5?7', ':': 'C~&', ';': ',IG', '$': 'YL&', '!': \"'{e\", '@': \"m7'\", '\"': '$4D', '#': 'RCg', '-': '`Lp', '_': '43O'}\n",
    "    msg = input(\"Write down the message you wish to encrypt : \")\n",
    "    encrypted_msg = []\n",
    "    for character in msg:\n",
    "        encrypted_msg.append(dict_encrypt[character]) \n",
    "    f = open(r'C:\\Users\\kaci\\Downloads\\IronHack\\Module 1\\Game 1\\encrypt.txt', 'x')\n",
    "    f.write(\"\".join(encrypted_msg))\n",
    "    print(\"\\n\", \"Here is your encrypted message : \", \"\\n\", \"\".join(encrypted_msg))\n",
    "    print (\"To be able to decrypt this message next time, please define a username and password bellow :\")\n",
    "    username=input(\"Username :\")\n",
    "    print(\"\\n\")\n",
    "    password=input(\"Password :\")\n",
    "            \n",
    "encryption_process()"
   ]
  },
  {
   "cell_type": "code",
   "execution_count": null,
   "id": "aa20746f",
   "metadata": {},
   "outputs": [],
   "source": []
  },
  {
   "cell_type": "code",
   "execution_count": null,
   "id": "891d7017",
   "metadata": {},
   "outputs": [],
   "source": []
  },
  {
   "cell_type": "raw",
   "id": "b1bf51e7",
   "metadata": {},
   "source": [
    "Kaci : encription funtion"
   ]
  },
  {
   "cell_type": "code",
   "execution_count": 9,
   "id": "4ff8bfe4",
   "metadata": {},
   "outputs": [
    {
     "name": "stdout",
     "output_type": "stream",
     "text": [
      "Write down the message you wish to encrypt : adubd\n"
     ]
    },
    {
     "ename": "KeyError",
     "evalue": "'d'",
     "output_type": "error",
     "traceback": [
      "\u001b[1;31m---------------------------------------------------------------------------\u001b[0m",
      "\u001b[1;31mKeyError\u001b[0m                                  Traceback (most recent call last)",
      "\u001b[1;32m~\\AppData\\Local\\Temp\\ipykernel_3596\\2347466860.py\u001b[0m in \u001b[0;36m<module>\u001b[1;34m\u001b[0m\n\u001b[0;32m     16\u001b[0m     \u001b[0mpassword\u001b[0m\u001b[1;33m=\u001b[0m\u001b[0minput\u001b[0m\u001b[1;33m(\u001b[0m\u001b[1;34m\"Password :\"\u001b[0m\u001b[1;33m)\u001b[0m\u001b[1;33m\u001b[0m\u001b[1;33m\u001b[0m\u001b[0m\n\u001b[0;32m     17\u001b[0m \u001b[1;33m\u001b[0m\u001b[0m\n\u001b[1;32m---> 18\u001b[1;33m \u001b[0mencryption_process\u001b[0m\u001b[1;33m(\u001b[0m\u001b[1;33m)\u001b[0m\u001b[1;33m\u001b[0m\u001b[1;33m\u001b[0m\u001b[0m\n\u001b[0m\u001b[0;32m     19\u001b[0m \u001b[1;33m\u001b[0m\u001b[0m\n",
      "\u001b[1;32m~\\AppData\\Local\\Temp\\ipykernel_3596\\2347466860.py\u001b[0m in \u001b[0;36mencryption_process\u001b[1;34m()\u001b[0m\n\u001b[0;32m      7\u001b[0m     \u001b[0mencrypted_msg\u001b[0m \u001b[1;33m=\u001b[0m \u001b[1;33m[\u001b[0m\u001b[1;33m]\u001b[0m\u001b[1;33m\u001b[0m\u001b[1;33m\u001b[0m\u001b[0m\n\u001b[0;32m      8\u001b[0m     \u001b[1;32mfor\u001b[0m \u001b[0mcharacter\u001b[0m \u001b[1;32min\u001b[0m \u001b[0mmsg\u001b[0m\u001b[1;33m:\u001b[0m\u001b[1;33m\u001b[0m\u001b[1;33m\u001b[0m\u001b[0m\n\u001b[1;32m----> 9\u001b[1;33m         \u001b[0mencrypted_msg\u001b[0m\u001b[1;33m.\u001b[0m\u001b[0mappend\u001b[0m\u001b[1;33m(\u001b[0m\u001b[0mdict_encrypt\u001b[0m\u001b[1;33m[\u001b[0m\u001b[0mcharacter\u001b[0m\u001b[1;33m]\u001b[0m\u001b[1;33m)\u001b[0m\u001b[1;33m\u001b[0m\u001b[1;33m\u001b[0m\u001b[0m\n\u001b[0m\u001b[0;32m     10\u001b[0m     \u001b[0mf\u001b[0m \u001b[1;33m=\u001b[0m \u001b[0mopen\u001b[0m\u001b[1;33m(\u001b[0m\u001b[1;34mr'C:\\Users\\kaci\\Downloads\\IronHack\\Module 1\\Game 1\\encrypt.txt'\u001b[0m\u001b[1;33m,\u001b[0m \u001b[1;34m'w'\u001b[0m\u001b[1;33m)\u001b[0m\u001b[1;33m\u001b[0m\u001b[1;33m\u001b[0m\u001b[0m\n\u001b[0;32m     11\u001b[0m     \u001b[0mf\u001b[0m\u001b[1;33m.\u001b[0m\u001b[0mwrite\u001b[0m\u001b[1;33m(\u001b[0m\u001b[1;34m\"\"\u001b[0m\u001b[1;33m.\u001b[0m\u001b[0mjoin\u001b[0m\u001b[1;33m(\u001b[0m\u001b[0mencrypted_msg\u001b[0m\u001b[1;33m)\u001b[0m\u001b[1;33m)\u001b[0m\u001b[1;33m\u001b[0m\u001b[1;33m\u001b[0m\u001b[0m\n",
      "\u001b[1;31mKeyError\u001b[0m: 'd'"
     ]
    }
   ],
   "source": [
    "# the idea is to iterate on  each character from the user input, \n",
    "# we match it with the key from dict_encrypt and return the value from dict_encrypt \n",
    "# in the form of a list which we will print as a string \n",
    "\n",
    "\n",
    "\n",
    "\n",
    "        "
   ]
  },
  {
   "cell_type": "code",
   "execution_count": 2,
   "id": "c94f8bb0",
   "metadata": {},
   "outputs": [
    {
     "name": "stdout",
     "output_type": "stream",
     "text": [
      "Hirethetopfreelancers\n"
     ]
    }
   ],
   "source": [
    "kaci = [\"Hire\", \"the\", \"top\", \"freelancers\"]\n",
    "print(\"\".join(kaci))"
   ]
  },
  {
   "cell_type": "code",
   "execution_count": 24,
   "id": "68f8a1ab",
   "metadata": {},
   "outputs": [
    {
     "data": {
      "text/plain": [
       "2"
      ]
     },
     "execution_count": 24,
     "metadata": {},
     "output_type": "execute_result"
    }
   ],
   "source": [
    "import ctypes  # An included library with Python install.   \n",
    "ctypes.windll.user32.MessageBoxW(0, \"Your text\", \"Your title\", 1)"
   ]
  }
 ],
 "metadata": {
  "kernelspec": {
   "display_name": "Python 3 (ipykernel)",
   "language": "python",
   "name": "python3"
  },
  "language_info": {
   "codemirror_mode": {
    "name": "ipython",
    "version": 3
   },
   "file_extension": ".py",
   "mimetype": "text/x-python",
   "name": "python",
   "nbconvert_exporter": "python",
   "pygments_lexer": "ipython3",
   "version": "3.9.13"
  }
 },
 "nbformat": 4,
 "nbformat_minor": 5
}
