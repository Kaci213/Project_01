{
 "cells": [
  {

   "cell_type": "markdown",
   "id": "c7ca0d8b",
   "metadata": {},
   "source": [
    "### function for generating encryption key\n",
    "This function will be used once in this instance.\n",
    "Eventually it could be used to generate a new key for each individual encryption\n",
    "\n",
    "PSEUDOCODE\n",
    "Import random\n",
    "Declare objects:\n",
    "    dict_encrypt (empty dictionary for character:encryption pairs)\n",
    "\n",
    "1. In a list, define all possible characters that can be entered A-Z, a-Z, 0-9, ' ', ',','.', ':', ';', '-','_'\n",
    "2. iterate though list, assigning a random combination of 3 characters.\n",
    "3. in empty dictionary, assign key (original character) and value (the encyrption key)\n",
    "4. check that the encyption combination does not already exist, if exists continue \n",
    "5. check that dictionary containes all original characters from list\n",
    "6. if characters missing rerun key creation\n",
    "7. Print dictionary\n",
    "\n",
    "\n"
   ]
  },
  {
   "cell_type": "code",
   "execution_count": 46,
   "id": "fc0af713",
   "metadata": {},
   "outputs": [
    {
     "name": "stdout",
     "output_type": "stream",
     "text": [
      "ABCDEFGHIJKLMNOPQRSTUVWXYZabcdefghijklmnopqrstuvwxyz0123456789!\"#$%&'()*+,-./:;<=>?@[ ]^_`{|}~\n",
      "all characters are encoded in dictionary\n",
      "{'A': 'i~z', 'B': '5<c', 'C': 'DR+', 'D': 'Q4B', 'E': 'YGD', 'F': '*iA', 'G': 'sNN', 'H': 'Kzp', 'I': 'C6@', 'J': ',4<', 'K': 'Sa.', 'L': '<Fj', 'M': '4J3', 'N': 'qOO', 'O': '9;{', 'P': 'd!?', 'Q': 'vF&', 'R': 'JX&', 'S': '\"5_', 'T': 'm5]', 'U': 'YYd', 'V': '+;j', 'X': '/eI', 'W': 'S f', 'Z': 'o42', 'a': 'Zl)', 'b': 't_Y', 'c': 'YPG', 'd': '`eY', 'e': '!Nm', 'f': '_.}', 'h': 'mY2', 'i': '*{P', 'j': 'JQG', 'k': 'yWi', 'l': 'a|Z', 'm': 'T_I', 'n': '#6&', 'o': '+CP', 'p': 'W9p', 'q': 'c*]', 'r': '{d-', 's': 'u3K', 't': 'I!T', 'u': 'usc', 'v': '=a[', 'w': 'uZN', 'z': 'h b', '1': '[!#', '2': '9lt', '3': ',~,', '4': 'p$d', '5': '{mc', '6': '$?#', '7': 'CV3', '8': '*oG', '9': '7^l', '0': 'M>]', ',': 'h:*', ' ': '6sd', '.': '5?7', ':': 'C~&', ';': ',IG', '$': 'YL&', '!': \"'{e\", '@': \"m7'\", '\"': '$4D', '#': 'RCg', '-': '`Lp', '_': '43O'}\n"
     ]
    }
   ],
   "source": [
    "#Function to generate and encryption key, \n",
    "# for the purposes of this program it is only executed once by the programmers to generate key\n",
    "\n",
    "def Encryption()\n",
    "    import random \n",
    "    import string\n",
    "\n",
    "    dict_encrypt={}\n",
    "    encrypt_str=string.ascii_uppercase+string.ascii_lowercase +string.digits+string.punctuation\n",
    "    encrypt_str=encrypt_str.replace('\\\\',' ')\n",
    "    print(encrypt_str)\n",
    "\n",
    "    char_list=['A','B','C','D','E','F','G','H','I','J','K','L','M','N','O','P','Q','R','S','T','U','V','X','W','Z',\n",
    "           'a','b','c','d','e','f','h','i','j','k','l','m','n','o','p','q','r','s','t','u','v','w', 'z',\n",
    "          '1','2','3','4','5','6','7','8','9','0',\n",
    "          ',', ' ','.',':',';','$','!','@','\"','#','-','_']\n",
    "\n",
    "\n",
    "# generation of key:value pair for character and its 3 character encryption code\n",
    "\n",
    "    for char in char_list:\n",
    "        encrypt_list=random.choices(encrypt_str, k=3) #returns as a list convert to string\n",
    "        encrypt_list= ''.join(encrypt_list)\n",
    "    # check that all encoded keys are unique\n",
    "        for key in dict_encrypt:\n",
    "            if dict_encrypt[key]==encrypt_list:\n",
    "                continue\n",
    "        dict_encrypt[char]= encrypt_list\n",
    "\n",
    "# checking that all characters in char list have been encoded\n",
    "\n",
    "    d_list=list(dict_encrypt.keys())\n",
    "\n",
    "\n",
    "    if len(set(char_list).symmetric_difference(set(d_list))) >0:\n",
    "        print(set(char_list).symmetric_difference(set(d_list)))\n",
    "    else:\n",
    "        print('all characters are encoded in dictionary')\n",
    "\n",
    "\n",
    "    return(dict_encrypt)\n",
    "\n",
    "print(encryption())\n",
    "\n",
    "\n"

   ]
  },
  {
   "cell_type": "code",
   "execution_count": 42,
   "id": "8dd10325",
   "metadata": {},
   "outputs": [],
   "source": [
    "dict_encrypt= {'A': 'i~z', 'B': '5<c', 'C': 'DR+', 'D': 'Q4B', 'E': 'YGD', 'F': '*iA', 'G': 'sNN', 'H': 'Kzp', 'I': 'C6@', 'J': ',4<', 'K': 'Sa.', 'L': '<Fj', 'M': '4J3', 'N': 'qOO', 'O': '9;{', 'P': 'd!?', 'Q': 'vF&', 'R': 'JX&', 'S': '\"5_', 'T': 'm5]', 'U': 'YYd', 'V': '+;j', 'X': '/eI', 'W': 'S f', 'Z': 'o42', 'a': 'Zl)', 'b': 't_Y', 'c': 'YPG', 'd': '`eY', 'e': '!Nm', 'f': '_.}', 'h': 'mY2', 'i': '*{P', 'j': 'JQG', 'k': 'yWi', 'l': 'a|Z', 'm': 'T_I', 'n': '#6&', 'o': '+CP', 'p': 'W9p', 'q': 'c*]', 'r': '{d-', 's': 'u3K', 't': 'I!T', 'u': 'usc', 'v': '=a[', 'w': 'uZN', 'z': 'h b', '1': '[!#', '2': '9lt', '3': ',~,', '4': 'p$d', '5': '{mc', '6': '$?#', '7': 'CV3', '8': '*oG', '9': '7^l', '0': 'M>]', ',': 'h:*', ' ': '6sd', '.': '5?7', ':': 'C~&', ';': ',IG', '$': 'YL&', '!': \"'{e\", '@': \"m7'\", '\"': '$4D', '#': 'RCg', '-': '`Lp', '_': '43O'}"
   ]
  },
  {
   "cell_type": "code",
   "execution_count": null,
   "id": "f95bc5e8",
   "metadata": {},
   "outputs": [],
   "source": [
    "Katerina code"
   ]
  },
  {
   "cell_type": "code",
   "execution_count": null,
   "id": "891d7017",
   "metadata": {},
   "outputs": [],
   "source": []
  },
  {
   "cell_type": "raw",
   "id": "b1bf51e7",
   "metadata": {},
   "source": [
    "Kaci : encription funtion"
   ]
  },
  {
   "cell_type": "code",
   "execution_count": 22,
   "id": "4ff8bfe4",
   "metadata": {},
   "outputs": [
    {
     "name": "stdout",
     "output_type": "stream",
     "text": [
      "Write down the message you wish to encrypt : abc\n",
      "\n",
      " Here is your encrypted message :  \n",
      " abdodsdjde\n"
     ]
    }
   ],
   "source": [
    "# the idea is to iterate on  each character from the user input, \n",
    "# we match it with the key from dict_encrypt and return the value from dict_encrypt \n",
    "# in the form of a list which we will print as a string \n",
    "\n",
    "dict_encrypt = {\"a\":\"abd\", \"b\":\"ods\", \"c\":\"djde\"}\n",
    "\n",
    "def encryption_process():\n",
    "    msg = input(\"Write down the message you wish to encrypt : \")\n",
    "    encrypted_msg = []\n",
    "    for character in msg:\n",
    "        encrypted_msg.append(dict_encrypt[character]) \n",
    "    f = open(r'C:\\Users\\kaci\\Downloads\\IronHack\\Module 1\\Game 1\\encrypt.txt', 'x')\n",
    "    f.write(\"\".join(encrypted_msg))\n",
    "    print(\"\\n\", \"Here is your encrypted message : \", \"\\n\", \"\".join(encrypted_msg))\n",
    "            \n",
    "encryption_process()\n",
    "        "
   ]
  },
  {
   "cell_type": "code",
   "execution_count": 2,
   "id": "c94f8bb0",
   "metadata": {},
   "outputs": [
    {
     "name": "stdout",
     "output_type": "stream",
     "text": [
      "Hirethetopfreelancers\n"
     ]
    }
   ],
   "source": [
    "kaci = [\"Hire\", \"the\", \"top\", \"freelancers\"]\n",
    "print(\"\".join(kaci))"
   ]
  },
  {
   "cell_type": "code",
   "execution_count": 24,
   "id": "68f8a1ab",
   "metadata": {},
   "outputs": [
    {
     "data": {
      "text/plain": [
       "2"
      ]
     },
     "execution_count": 24,
     "metadata": {},
     "output_type": "execute_result"
    }
   ],
   "source": [
    "import ctypes  # An included library with Python install.   \n",
    "ctypes.windll.user32.MessageBoxW(0, \"Your text\", \"Your title\", 1)"
   ]
  }
 ],
 "metadata": {
  "kernelspec": {
   "display_name": "Python 3 (ipykernel)",
   "language": "python",
   "name": "python3"
  },
  "language_info": {
   "codemirror_mode": {
    "name": "ipython",
    "version": 3
   },
   "file_extension": ".py",
   "mimetype": "text/x-python",
   "name": "python",
   "nbconvert_exporter": "python",
   "pygments_lexer": "ipython3",
   "version": "3.9.13"
  }
 },
 "nbformat": 4,
 "nbformat_minor": 5
}
