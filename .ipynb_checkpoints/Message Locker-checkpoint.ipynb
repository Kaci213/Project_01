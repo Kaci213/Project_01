{
 "cells": [
  {
   "cell_type": "markdown",
   "id": "b2c58f1b",
   "metadata": {},
   "source": [
    "# Message Locker : Message encryption and decryption "
   ]
  },
  {
   "cell_type": "markdown",
   "id": "671c5ebc",
   "metadata": {},
   "source": [
    "This function will be used once in this instance.\n",
    "Eventually it could be used to generate a new key for each individual encryption\n",
    "\n",
    "PSEUDOCODE\n",
    "Import random\n",
    "Declare objects:\n",
    "    dict_encrypt (empty dictionary for character:encryption pairs)\n",
    "\n",
    "1. In a list, define all possible characters that can be entered A-Z, a-Z, 0-9, ' ', ',','.', ':', ';', '-','_'\n",
    "2. iterate though list, assigning a random combination of 3 characters.\n",
    "3. in empty dictionary, assign key (original character) and value (the encyrption key)\n",
    "4. check that the encyption combination does not already exist, if exists continue \n",
    "5. check that dictionary containes all original characters from list\n",
    "6. if characters missing rerun key creation\n",
    "7. Print dictionary\n",
    "\n",
    "\n"
   ]
  },
  {
   "cell_type": "code",
   "execution_count": 9,
   "id": "fc0af713",
   "metadata": {},
   "outputs": [
    {
     "name": "stdout",
     "output_type": "stream",
     "text": [
      "ABCDEFGHIJKLMNOPQRSTUVWXYZabcdefghijklmnopqrstuvwxyz0123456789!\"#$%&'()*+,-./:;<=>?@[\\]^_`{|}~\n",
      "ABCDEFGHIJKLMNOPQRSTUVWXYZabcdefghijklmnopqrstuvwxyz0123456789!\"#$%&'()*+,-./:;<=>?@[ ]^_`{|}~\n",
      "all characters are encoded in dictionary\n",
      "{'A': 'pMR', 'B': '<l.', 'C': 'G;:', 'D': '%)\"', 'E': '`6p', 'F': 'e3[', 'G': 'B:D', 'H': 'mO$', 'I': '{WP', 'J': 'CGA', 'K': '_vG', 'L': 'nDe', 'M': 'P3Y', 'N': 'FOT', 'O': ']o#', 'P': '`2,', 'Q': 'T:!', 'R': '4V ', 'S': 'f25', 'T': 'rdJ', 'U': '\"~<', 'V': '2~I', 'W': 'G{z', 'X': 't-1', 'Y': '|ha', 'Z': 'YHH', 'a': '@kC', 'b': 'kk[', 'c': 'B.B', 'd': 'Yvn', 'e': '.E&', 'f': '.16', 'g': '<9$', 'h': ' `g', 'i': '/j0', 'j': '<D`', 'k': 'GQp', 'l': 'O:Y', 'm': 'vhi', 'n': '{sh', 'o': 'bwH', 'p': 'W&y', 'q': 'at@', 'r': 'Q7F', 's': '}=f', 't': 'h;1', 'u': 'TB_', 'v': 'cQM', 'w': 'ad?', 'x': 'i&(', 'y': '46:', 'z': '}P$', '1': '{[`', '2': ',Nh', '3': 'Q)x', '4': '~lc', '5': '0m|', '6': '~>R', '7': 'V]!', '8': '^S-', '9': 'GZV', '0': ' @h', '(': 'FLV', ')': '%0v', '[': '>?L', ']': 'mZ&', ',': ' z^', ' ': 'K[W', '&': 'T\"*', '*': '%R6', '?': 'U!F', '%': 'lgs', '.': 'LoA', ':': '0/ ', ';': '7Up', '$': 'AcT', '!': 'qXN', '@': '?b3', \"'\": '%<&', '': 'Ru@', '\"': '43Z', '#': \"'&Z\", '-': 'z+,', '_': 'HnD'}\n"
     ]
    }
   ],
   "source": [
    "#Function to generate and encryption key, \n",
    "# for the purposes of this program it is only executed once by the programmers to generate key\n",
    "\n",
    "def Encryption():\n",
    "    import random \n",
    "    import string\n",
    "\n",
    "    dict_encrypt={}\n",
    "    encrypt_str=string.ascii_uppercase+string.ascii_lowercase +string.digits+string.punctuation\n",
    "    print(encrypt_str)\n",
    "    encrypt_str=encrypt_str.replace('\\\\',' ')\n",
    "    print(encrypt_str)\n",
    "\n",
    "    char_list=['A','B','C','D','E','F','G','H','I','J','K','L','M','N','O','P','Q','R','S','T','U','V','W','X','Y','Z',\n",
    "           'a','b','c','d','e','f','g','h','i','j','k','l','m','n','o','p','q','r','s','t','u','v','w','x','y', 'z',\n",
    "          '1','2','3','4','5','6','7','8','9','0','(',')','[',']',',', ' ','&','*','?','%','.',':',';','$','!','@',\"'\",'','\"','#','-','_']\n",
    "\n",
    "\n",
    "# generation of key:value pair for character and its 3 character encryption code\n",
    "\n",
    "    for char in char_list:\n",
    "        encrypt_list=random.choices(encrypt_str, k=3) #returns as a list convert to string\n",
    "        encrypt_list= ''.join(encrypt_list)\n",
    "    # check that all encoded keys are unique\n",
    "        for key in dict_encrypt:\n",
    "            if dict_encrypt[key]==encrypt_list:\n",
    "                continue\n",
    "        dict_encrypt[char]= encrypt_list\n",
    "\n",
    "# checking that all characters in char list have been encoded\n",
    "\n",
    "    d_list=list(dict_encrypt.keys())\n",
    "\n",
    "\n",
    "    if len(set(char_list).symmetric_difference(set(d_list))) >0:\n",
    "        print(set(char_list).symmetric_difference(set(d_list)))\n",
    "    else:\n",
    "        print('all characters are encoded in dictionary')\n",
    "    print(dict_encrypt)    \n",
    "\n",
    "Encryption()"
   ]
  },
  {
   "cell_type": "code",
   "execution_count": 14,
   "id": "8dd10325",
   "metadata": {},
   "outputs": [
    {
     "name": "stdout",
     "output_type": "stream",
     "text": [
      "{']Rt': 'A', '^=V': 'B', 'S\"B': 'C', 'M#f': 'D', 'L>)': 'E', 'Cp&': 'F', 'U}M': 'G', ';T6': 'H', '-!}': 'I', 'Ie\"': 'J', '_J?': 'K', 'iC%': 'L', 'aHp': 'M', '10Z': 'N', 'y8e': 'O', 'q_<': 'P', ')8r': 'Q', 'Ij&': 'R', '$>!': 'S', 'Uv-': 'T', 'QeY': 'U', 'Y11': 'V', '*FM': 'W', 'X,T': 'X', '2#>': 'Y', '(c4': 'Z', 'M&a': 'a', 'pPG': 'b', '_k_': 'c', 'O\",': 'd', 'qlJ': 'e', 'a{$': 'f', '00~': 'g', 'ydM': 'h', '-e|': 'i', '0[P': 'j', '-S;': 'k', 'eC,': 'l', 'F|[': 'm', 'S7A': 'n', 'C?y': 'o', '&,[': 'p', '+*4': 'q', '3ud': 'r', '{F~': 's', '_Eu': 't', 'UB)': 'u', 'Gwl': 'v', '_s?': 'w', ']3#': 'x', 't@7': 'y', '6PI': 'z', 'ok+': '1', 'wW&': '2', \"'6_\": '3', 'Ic)': '4', 'c/+': '5', '*cW': '6', 'kC!': '7', '&1}': '8', ' zn': '9', 'c%R': '0', 'trE': '(', 'rn$': ')', 't@~': '[', '36q': ']', 'IG\"': ',', 'f~C': ' ', 'zp<': '&', 'R@P': '*', 'g88': '?', 'nW+': '%', '?Ga': '.', 'SEP': ':', 'N.&': ';', '*u&': '$', 'ihF': '!', 'k@$': '@', 'x2G': \"'\", 'r#j': '', 'Qjf': '\"', '/~c': '#', 'Z7@': '-', 'DB.': '_'}\n"
     ]
    }
   ],
   "source": [
    "#This function allows us to reverse the key,value pair of a dictionnary, and get the key as the new value\n",
    "\n",
    "dict_encrypt= {'A': ']Rt', 'B': '^=V', 'C': 'S\"B', 'D': 'M#f', 'E': 'L>)', 'F': 'Cp&', 'G': 'U}M', 'H': ';T6', 'I': '-!}', 'J': 'Ie\"', 'K': '_J?', 'L': 'iC%', 'M': 'aHp', 'N': '10Z', 'O': 'y8e', 'P': 'q_<', 'Q': ')8r', 'R': 'Ij&', 'S': '$>!', 'T': 'Uv-', 'U': 'QeY', 'V': 'Y11', 'W': '*FM', 'X': 'X,T', 'Y': '2#>', 'Z': '(c4', 'a': 'M&a', 'b': 'pPG', 'c': '_k_', 'd': 'O\",', 'e': 'qlJ', 'f': 'a{$', 'g': '00~', 'h': 'ydM', 'i': '-e|', 'j': '0[P', 'k': '-S;', 'l': 'eC,', 'm': 'F|[', 'n': 'S7A', 'o': 'C?y', 'p': '&,[', 'q': '+*4', 'r': '3ud', 's': '{F~', 't': '_Eu', 'u': 'UB)', 'v': 'Gwl', 'w': '_s?', 'x': ']3#', 'y': 't@7', 'z': '6PI', '1': 'ok+', '2': 'wW&', '3': \"'6_\", '4': 'Ic)', '5': 'c/+', '6': '*cW', '7': 'kC!', '8': '&1}', '9': ' zn', '0': 'c%R', '(': 'trE', ')': 'rn$', '[': 't@~', ']': '36q', ',': 'IG\"', ' ': 'f~C', '&': 'zp<', '*': 'R@P', '?': 'g88', '%': 'nW+', '.': '?Ga', ':': 'SEP', ';': 'N.&', '$': '*u&', '!': 'ihF', '@': 'k@$', \"'\": 'x2G', '': 'r#j', '\"': 'Qjf', '#': '/~c', '-': 'Z7@', '_': 'DB.'}\n",
    "\n",
    "reversed_dict_encrypt = dict()\n",
    "for key in dict_encrypt:\n",
    "    val = dict_encrypt[key]\n",
    "    reversed_dict_encrypt[val] = key\n",
    "    \n",
    "print(reversed_dict_encrypt)"
   ]
  },
  {
   "cell_type": "code",
   "execution_count": 8,
   "id": "f95bc5e8",
   "metadata": {},
   "outputs": [
    {
     "name": "stdout",
     "output_type": "stream",
     "text": [
      "Welcome to Message Locker!\n",
      "\n",
      "This a handy tool to encrypt a message, simply enter your text in English in the input box.\n",
      "When you are ready to decrypt simply come back here with your encrypted message and follow the instructions.\n",
      "Have a good day!!!\n",
      "    \n",
      "If you want to encrypt press 1 and if you want to decrypt press 2 :2\n",
      "Write down the message you wish to decrypt : \n",
      ";T6qlJeC,eC,C?yf~CihFf~CaHpt@7f~CS7AM&aF|[qlJf~C-e|{F~f~C_J?M&a_k_-e|IG\"f~C-e|x2GF|[f~CwW&c/+\n",
      "[';T6', 'qlJ', 'eC,', 'eC,', 'C?y', 'f~C', 'ihF', 'f~C', 'aHp', 't@7', 'f~C', 'S7A', 'M&a', 'F|[', 'qlJ', 'f~C', '-e|', '{F~', 'f~C', '_J?', 'M&a', '_k_', '-e|', 'IG\"', 'f~C', '-e|', 'x2G', 'F|[', 'f~C', 'wW&', 'c/+']\n",
      "\n",
      "\n",
      "Here is your decrypted message :  \n",
      " Hello ! My name is Kaci, i'm 25\n",
      "\n",
      "\n",
      "Thank you for using Message Locker! We hope to see you again !!\n"
     ]
    }
   ],
   "source": [
    "dict_encrypt= {'A': ']Rt', 'B': '^=V', 'C': 'S\"B', 'D': 'M#f', 'E': 'L>)', 'F': 'Cp&', 'G': 'U}M', 'H': ';T6', 'I': '-!}', 'J': 'Ie\"', 'K': '_J?', 'L': 'iC%', 'M': 'aHp', 'N': '10Z', 'O': 'y8e', 'P': 'q_<', 'Q': ')8r', 'R': 'Ij&', 'S': '$>!', 'T': 'Uv-', 'U': 'QeY', 'V': 'Y11', 'W': '*FM', 'X': 'X,T', 'Y': '2#>', 'Z': '(c4', 'a': 'M&a', 'b': 'pPG', 'c': '_k_', 'd': 'O\",', 'e': 'qlJ', 'f': 'a{$', 'g': '00~', 'h': 'ydM', 'i': '-e|', 'j': '0[P', 'k': '-S;', 'l': 'eC,', 'm': 'F|[', 'n': 'S7A', 'o': 'C?y', 'p': '&,[', 'q': '+*4', 'r': '3ud', 's': '{F~', 't': '_Eu', 'u': 'UB)', 'v': 'Gwl', 'w': '_s?', 'x': ']3#', 'y': 't@7', 'z': '6PI', '1': 'ok+', '2': 'wW&', '3': \"'6_\", '4': 'Ic)', '5': 'c/+', '6': '*cW', '7': 'kC!', '8': '&1}', '9': ' zn', '0': 'c%R', '(': 'trE', ')': 'rn$', '[': 't@~', ']': '36q', ',': 'IG\"', ' ': 'f~C', '&': 'zp<', '*': 'R@P', '?': 'g88', '%': 'nW+', '.': '?Ga', ':': 'SEP', ';': 'N.&', '$': '*u&', '!': 'ihF', '@': 'k@$', \"'\": 'x2G', '': 'r#j', '\"': 'Qjf', '#': '/~c', '-': 'Z7@', '_': 'DB.'}\n",
    "reversed_dict_encrypt= {']Rt': 'A', '^=V': 'B', 'S\"B': 'C', 'M#f': 'D', 'L>)': 'E', 'Cp&': 'F', 'U}M': 'G', ';T6': 'H', '-!}': 'I', 'Ie\"': 'J', '_J?': 'K', 'iC%': 'L', 'aHp': 'M', '10Z': 'N', 'y8e': 'O', 'q_<': 'P', ')8r': 'Q', 'Ij&': 'R', '$>!': 'S', 'Uv-': 'T', 'QeY': 'U', 'Y11': 'V', '*FM': 'W', 'X,T': 'X', '2#>': 'Y', '(c4': 'Z', 'M&a': 'a', 'pPG': 'b', '_k_': 'c', 'O\",': 'd', 'qlJ': 'e', 'a{$': 'f', '00~': 'g', 'ydM': 'h', '-e|': 'i', '0[P': 'j', '-S;': 'k', 'eC,': 'l', 'F|[': 'm', 'S7A': 'n', 'C?y': 'o', '&,[': 'p', '+*4': 'q', '3ud': 'r', '{F~': 's', '_Eu': 't', 'UB)': 'u', 'Gwl': 'v', '_s?': 'w', ']3#': 'x', 't@7': 'y', '6PI': 'z', 'ok+': '1', 'wW&': '2', \"'6_\": '3', 'Ic)': '4', 'c/+': '5', '*cW': '6', 'kC!': '7', '&1}': '8', ' zn': '9', 'c%R': '0', 'trE': '(', 'rn$': ')', 't@~': '[', '36q': ']', 'IG\"': ',', 'f~C': ' ', 'zp<': '&', 'R@P': '*', 'g88': '?', 'nW+': '%', '?Ga': '.', 'SEP': ':', 'N.&': ';', '*u&': '$', 'ihF': '!', 'k@$': '@', 'x2G': \"'\", 'r#j': '', 'Qjf': '\"', '/~c': '#', 'Z7@': '-', 'DB.': '_'}\n",
    "\n",
    "def start_game():\n",
    "    print('''Welcome to Message Locker!\n",
    "\n",
    "This a handy tool to encrypt a message, simply enter your text in English in the input box.\n",
    "When you are ready to decrypt simply come back here with your encrypted message and follow the instructions.\n",
    "Have a good day!!!\n",
    "    ''')\n",
    "\n",
    "    choice=int(input(\"If you want to encrypt press 1 and if you want to decrypt press 2 :\"))\n",
    "    if choice==1:\n",
    "        encryption_process()\n",
    "    elif choice==2:\n",
    "        decryption_process()\n",
    "    else:\n",
    "        choice=input(\"Please chose between, 1 or 2\")\n",
    "    print(\"\\n\")\n",
    "    print('Thank you for using Message Locker! We hope to see you again !!')\n",
    "\n",
    "    \n",
    "def encryption_process():\n",
    "    # english message entered\n",
    "    msg = input(\"Write down the message you wish to encrypt. It must be in English, it can contain numbers and these special characters only '.:;$!@'-_:)(][ \\n\")\n",
    "    encrypted_msg = []\n",
    "    \n",
    "    # this part returns us the encrypted message\n",
    "    for character in msg:\n",
    "        encrypted_msg.append(dict_encrypt[character])\n",
    "    f = open(r'C:\\Users\\kaci\\Downloads\\IronHack\\Module 1\\Game 1\\encrypt.txt', 'w')\n",
    "    f.write(\"\".join(encrypted_msg))\n",
    "    print(\"\\n\")\n",
    "    print(\"\\n\", \"Here is your encrypted message : \", \"\\n\", \"\".join(encrypted_msg))            \n",
    "\n",
    "\n",
    "def decryption_process():\n",
    "    # encrypted message entered\n",
    "    encr_txt = input(\"Write down the message you wish to decrypt : \\n\")\n",
    "    encr_lst = []\n",
    "    decr_msg=[]\n",
    "\n",
    "    #this part splits the string 3 characters by 3 characters\n",
    "    n=3\n",
    "    for index in range(0, len(encr_txt), n):\n",
    "        encr_lst.append(encr_txt[index : index + n])\n",
    "    print(encr_lst)\n",
    "    \n",
    "    #this part returns us the decrypted message\n",
    "    for k in encr_lst:\n",
    "        decr_msg.append(reversed_dict_encrypt[k])\n",
    "    \n",
    "    print(\"\\n\")\n",
    "    print(\"Here is your decrypted message : \", \"\\n\", \"\".join(decr_msg))\n",
    "\n",
    "\n",
    "    \n",
    "start_game()"
   ]
  },
  {
   "cell_type": "code",
   "execution_count": null,
   "id": "41f03427",
   "metadata": {},
   "outputs": [],
   "source": []
  },
  {
   "cell_type": "code",
   "execution_count": null,
   "id": "771794a6",
   "metadata": {},
   "outputs": [],
   "source": []
  },
  {
   "cell_type": "code",
   "execution_count": null,
   "id": "891d7017",
   "metadata": {},
   "outputs": [],
   "source": []
  }
 ],
 "metadata": {
  "kernelspec": {
   "display_name": "Python 3 (ipykernel)",
   "language": "python",
   "name": "python3"
  },
  "language_info": {
   "codemirror_mode": {
    "name": "ipython",
    "version": 3
   },
   "file_extension": ".py",
   "mimetype": "text/x-python",
   "name": "python",
   "nbconvert_exporter": "python",
   "pygments_lexer": "ipython3",
   "version": "3.9.13"
  }
 },
 "nbformat": 4,
 "nbformat_minor": 5
}
