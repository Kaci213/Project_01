{
 "cells": [
  {
   "cell_type": "code",
   "execution_count": null,
   "id": "8ea84f05",
   "metadata": {},
   "outputs": [],
   "source": [
    "Gemma code"
   ]
  },
  {
   "cell_type": "code",
   "execution_count": null,
   "id": "8dd10325",
   "metadata": {},
   "outputs": [],
   "source": []
  },
  {
   "cell_type": "code",
   "execution_count": null,
   "id": "f95bc5e8",
   "metadata": {},
   "outputs": [],
   "source": [
    "Katerina code"
   ]
  },
  {
   "cell_type": "code",
   "execution_count": null,
   "id": "891d7017",
   "metadata": {},
   "outputs": [],
   "source": []
  },
  {
   "cell_type": "code",
   "execution_count": null,
   "id": "f510491f",
   "metadata": {},
   "outputs": [],
   "source": [
    "Kaci code"
   ]
  }
 ],
 "metadata": {
  "kernelspec": {
   "display_name": "Python 3 (ipykernel)",
   "language": "python",
   "name": "python3"
  },
  "language_info": {
   "codemirror_mode": {
    "name": "ipython",
    "version": 3
   },
   "file_extension": ".py",
   "mimetype": "text/x-python",
   "name": "python",
   "nbconvert_exporter": "python",
   "pygments_lexer": "ipython3",
   "version": "3.9.13"
  }
 },
 "nbformat": 4,
 "nbformat_minor": 5
}
