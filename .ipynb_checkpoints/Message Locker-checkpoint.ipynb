{
 "cells": [
  {
   "cell_type": "code",
   "execution_count": null,
   "id": "8ea84f05",
   "metadata": {},
   "outputs": [],
   "source": [
    "Gemma code"
   ]
  },
  {
   "cell_type": "code",
   "execution_count": null,
   "id": "8dd10325",
   "metadata": {},
   "outputs": [],
   "source": []
  },
  {
   "cell_type": "code",
   "execution_count": null,
   "id": "f95bc5e8",
   "metadata": {},
   "outputs": [],
   "source": [
    "# Katerina code\n",
    "\n",
    "#My code is here:\n",
    "\n",
    "input1 = input('Enter your Encripted text  ')\n",
    "#input2 = input('Enter your user name')\n",
    "#input3 = input('Enter your password')\n",
    "list1 = list(input1)\n",
    "dict_encrypt={'a':22, 'b':57, 'c':74, 'd':12}\n",
    "decr_msg=[]\n",
    "for i in list1:\n",
    "    if i in dict_encrypt:\n",
    "        decr_msg.append(dict_encrypt[i])\n",
    "output=''.join(str(x) for x in decr_msg)\n",
    "print(output)"
   ]
  },
  {
   "cell_type": "code",
   "execution_count": null,
   "id": "891d7017",
   "metadata": {},
   "outputs": [],
   "source": []
  },
  {
   "cell_type": "code",
   "execution_count": null,
   "id": "f510491f",
   "metadata": {},
   "outputs": [],
   "source": [
    "Kaci code"
   ]
  }
 ],
 "metadata": {
  "kernelspec": {
   "display_name": "Python 3 (ipykernel)",
   "language": "python",
   "name": "python3"
  },
  "language_info": {
   "codemirror_mode": {
    "name": "ipython",
    "version": 3
   },
   "file_extension": ".py",
   "mimetype": "text/x-python",
   "name": "python",
   "nbconvert_exporter": "python",
   "pygments_lexer": "ipython3",
   "version": "3.9.13"
  }
 },
 "nbformat": 4,
 "nbformat_minor": 5
}
